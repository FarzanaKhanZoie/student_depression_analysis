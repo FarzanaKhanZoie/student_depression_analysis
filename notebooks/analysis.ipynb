{
  "cells": [
    {
      "cell_type": "code",
      "execution_count": null,
      "metadata": {
        "vscode": {
          "languageId": "plaintext"
        }
      },
      "outputs": [],
      "source": [
        "from src.preprocessing import preprocess_data\n",
        "from src.modeling import train_logistic_regression, train_naive_bayes, train_decision_tree, evaluate_model\n",
        "from src.visualization import plot_depression_distribution, plot_correlation_heatmap, plot_model_comparison\n",
        "\n",
        "file = '../data/Student_Depression_Dataset.csv'\n",
        "df = preprocess_data(file)\n",
        "\n",
        "plot_depression_distribution(df)\n",
        "\n",
        "X = df.drop('Depression', axis=1)\n",
        "y = df['Depression']\n",
        "X_train, X_test, y_train, y_test = train_test_split(X, y, test_size=0.3, random_state=42)\n",
        "\n",
        "log_reg_model = train_logistic_regression(X_train, y_train)\n",
        "naive_bayes_model = train_naive_bayes(X_train, y_train)\n",
        "dt_model = train_decision_tree(X_train, y_train)\n",
        "\n",
        "log_reg_accuracy, _, log_reg_report = evaluate_model(log_reg_model, X_test, y_test)\n",
        "naive_bayes_accuracy, _, nb_report = evaluate_model(naive_bayes_model, X_test, y_test)\n",
        "dt_accuracy, _, dt_report = evaluate_model(dt_model, X_test, y_test)\n",
        "\n",
        "models = ['Logistic Regression', 'Naive Bayes', 'Decision Tree']\n",
        "accuracies = [log_reg_accuracy, naive_bayes_accuracy, dt_accuracy]\n",
        "plot_model_comparison(models, accuracies)\n",
        "\n",
        "print(\"Logistic Regression Report:\\n\", log_reg_report)\n",
        "print(\"Naive Bayes Report:\\n\", nb_report)\n",
        "print(\"Decision Tree Report:\\n\", dt_report)\n"
      ]
    }
  ],
  "metadata": {
    "colab": {
      "provenance": []
    },
    "kernelspec": {
      "display_name": "Python 3",
      "name": "python3"
    },
    "language_info": {
      "name": "python"
    }
  },
  "nbformat": 4,
  "nbformat_minor": 0
}
